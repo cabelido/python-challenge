{
 "cells": [
  {
   "cell_type": "code",
   "execution_count": null,
   "metadata": {},
   "outputs": [],
   "source": [
    "#Import modules\n",
    "import os\n",
    "import csv\n",
    "\n",
    "#Define path\n",
    "pollreader = os.path.join('C:\\\\Users\\\\cabel\\\\python-challenge\\\\PyPoll\\\\Resources\\\\election_data.csv')\n",
    "\n",
    "#Initialize variables, list, dictionary\n",
    "votecount = 0\n",
    "votes=0\n",
    "pollchoices = []\n",
    "pollvotes = {}\n",
    "winner = \"\"\n",
    "maxvotes = 0"
   ]
  },
  {
   "cell_type": "code",
   "execution_count": 14,
   "metadata": {},
   "outputs": [],
   "source": [
    "#Open file and read as a list of dictionaries\n",
    "with open(pollreader,\"r\") as election_data:\n",
    "    reader = csv.DictReader(election_data)\n",
    "\n",
    "        for row in reader:\n",
    "\n",
    "        # Add to the total vote count\n",
    "        votecount += 1\n",
    "        name = row[\"Candidate\"]\n",
    "\n",
    "        if name not in pollchoices:\n",
    "            pollchoices.append(name)\n",
    "            pollvotes[name] = 0\n",
    "        pollvotes[name] = pollvotes[name] + 1\n",
    "      \n",
    "    election_count = (\n",
    "    f\"\\n\\nElection Results\\n\"\n",
    "    f\"-------------------------\\n\"\n",
    "    f\"Total Votes: {votecount}\\n\"\n",
    "    f\"-------------------------\\n\")\n",
    "    "
   ]
  },
  {
   "cell_type": "code",
   "execution_count": 15,
   "metadata": {},
   "outputs": [
    {
     "name": "stdout",
     "output_type": "stream",
     "text": [
      "\n",
      "\n",
      "Election Results\n",
      "-------------------------\n",
      "Total Votes: 3521001\n",
      "-------------------------\n",
      "\n",
      "Khan: 63.000% (2218231)\n",
      "\n",
      "Correy: 20.000% (704200)\n",
      "\n",
      "Li: 14.000% (492940)\n",
      "\n",
      "O'Tooley: 3.000% (105630)\n",
      "\n",
      "-------------------------\n",
      "Winner: Khan\n",
      "-------------------------\n",
      "\n"
     ]
    }
   ],
   "source": [
    "    #Print to terminal\n",
    "    print(election_count)\n",
    "    \n",
    "    #Create/save results text file and export data to file.\n",
    "    saveFile=open('Results.txt','w')\n",
    "    saveFile.write(election_count)\n",
    "    \n",
    "    # Determine the winner by looping through the counts\n",
    "    for name in pollvotes:\n",
    "\n",
    "        # Extract vote count and percentage for each candidate\n",
    "        votes = pollvotes.get(name)\n",
    "        vote_percentage = float(votes) / float(votecount) * 100\n",
    "\n",
    "        # Determine winning vote count and candidate\n",
    "        if (votes > maxvotes):\n",
    "            maxvotes = votes\n",
    "            winner = name\n",
    "            \n",
    "        # Print each candidate's voter count and percentage to terminal\n",
    "        voter_output = f\"{name}: {vote_percentage:.3f}% ({votes})\\n\"\n",
    "        # Print voter output to terminal\n",
    "        print(voter_output)\n",
    "        # Export data to Results file\n",
    "        saveFile.write(voter_output)\n",
    "    \n",
    "    # Print the winning candidate (to terminal)\n",
    "    Win = (\n",
    "        f\"-------------------------\\n\"\n",
    "        f\"Winner: {winner}\\n\"\n",
    "        f\"-------------------------\\n\")\n",
    "    print(Win)\n",
    "    #Export data to Results file\n",
    "    saveFile.write(Win)\n",
    "    saveFile.close()"
   ]
  }
 ],
 "metadata": {
  "kernelspec": {
   "display_name": "Python 3",
   "language": "python",
   "name": "python3"
  },
  "language_info": {
   "codemirror_mode": {
    "name": "ipython",
    "version": 3
   },
   "file_extension": ".py",
   "mimetype": "text/x-python",
   "name": "python",
   "nbconvert_exporter": "python",
   "pygments_lexer": "ipython3",
   "version": "3.7.3"
  }
 },
 "nbformat": 4,
 "nbformat_minor": 2
}
