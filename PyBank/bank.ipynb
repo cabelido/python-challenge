{
 "cells": [
  {
   "cell_type": "code",
   "execution_count": 126,
   "metadata": {},
   "outputs": [],
   "source": [
    "import os\n",
    "import csv"
   ]
  },
  {
   "cell_type": "code",
   "execution_count": 127,
   "metadata": {},
   "outputs": [],
   "source": [
    "budgetpath = os.path.join('..','Resources','budget_data.csv')\n",
    "\n",
    "month_count = 0\n",
    "total_revenue = 0\n",
    "this_month_revenue = 0\n",
    "last_month_revenue = 0\n",
    "revenue_change = 0\n",
    "revenue_changes = []\n",
    "months = []\n",
    "with open (budgetpath,'r') as csvfile:\n",
    "    budget_data = csv.reader(csvfile, delimiter = ',')\n",
    "    next(budget_data,0) "
   ]
  },
  {
   "cell_type": "code",
   "execution_count": 125,
   "metadata": {},
   "outputs": [
    {
     "name": "stdout",
     "output_type": "stream",
     "text": [
      "<_csv.reader object at 0x000002453A0A9D48>\n"
     ]
    }
   ],
   "source": [
    "    \n",
    "    "
   ]
  },
  {
   "cell_type": "code",
   "execution_count": null,
   "metadata": {},
   "outputs": [],
   "source": []
  }
 ],
 "metadata": {
  "kernelspec": {
   "display_name": "Python 3",
   "language": "python",
   "name": "python3"
  },
  "language_info": {
   "codemirror_mode": {
    "name": "ipython",
    "version": 3
   },
   "file_extension": ".py",
   "mimetype": "text/x-python",
   "name": "python",
   "nbconvert_exporter": "python",
   "pygments_lexer": "ipython3",
   "version": "3.7.3"
  }
 },
 "nbformat": 4,
 "nbformat_minor": 2
}
