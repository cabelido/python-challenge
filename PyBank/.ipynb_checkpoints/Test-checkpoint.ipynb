{
 "cells": [
  {
   "cell_type": "code",
   "execution_count": 1,
   "metadata": {},
   "outputs": [
    {
     "name": "stdout",
     "output_type": "stream",
     "text": [
      "CSVHeader: ['Date', 'Profit/Losses']\n",
      "Financial Analysis\n",
      "----------------------------------------\n",
      "Total Months: 86\n",
      "Total Revenue: $1725901676\n",
      "Average Revenue Change: $441349.34117647057\n",
      "Greatest Increase in Revenue: Jan-2012 ($1170593)\n",
      "Greatest Decrease in Revenue: Aug-2013 ($-1196225)\n"
     ]
    }
   ],
   "source": [
    "import os\n",
    "import csv\n",
    "\n",
    "\n",
    "month_count = 0\n",
    "total_revenue = 0\n",
    "this_month_revenue = 0\n",
    "last_month_revenue = 0\n",
    "revenue_change = 0\n",
    "revenue_changes = []\n",
    "months = []\n",
    "\n",
    "# open csv file\n",
    "filepath = os.path.join('C:\\\\Users\\\\cabel\\\\python-challenge\\\\Resources\\\\budget_data.csv')\n",
    "with open(filepath,'r', newline=\"\") as csvfile:\n",
    "    csvreader = csv.reader(csvfile, delimiter=\",\")\n",
    "\n",
    "    csvheader=next(csvreader)\n",
    "    print(f\"CSVHeader: {csvheader}\")\n",
    "\n",
    "    # gather monthly changes in revenue\n",
    "    for row in csvreader:\n",
    "        month_count = month_count + 1\n",
    "        months.append(row[0])\n",
    "        this_month_revenue += int(row[1])\n",
    "        total_revenue = total_revenue + this_month_revenue\n",
    "        if month_count > 1:\n",
    "            revenue_change = this_month_revenue - last_month_revenue\n",
    "            revenue_changes.append(revenue_change)\n",
    "        last_month_revenue = this_month_revenue\n",
    "\n",
    "# analyze the month by month results\n",
    "sum_rev_changes = sum(revenue_changes)\n",
    "average_change = sum_rev_changes / (month_count - 1)\n",
    "max_change = max(revenue_changes)\n",
    "min_change = min(revenue_changes)\n",
    "max_month_index = revenue_changes.index(max_change)\n",
    "min_month_index = revenue_changes.index(min_change)\n",
    "max_month = months[max_month_index]\n",
    "min_month = months[min_month_index]\n",
    "\n",
    "# print summary to user\n",
    "print(\"Financial Analysis\")\n",
    "print(\"----------------------------------------\")\n",
    "print(f\"Total Months: {month_count}\")\n",
    "print(f\"Total Revenue: ${total_revenue}\")\n",
    "print(f\"Average Revenue Change: ${average_change}\")\n",
    "print(f\"Greatest Increase in Revenue: {max_month} (${max_change})\")\n",
    "print(f\"Greatest Decrease in Revenue: {min_month} (${min_change})\")\n"
   ]
  }
 ],
 "metadata": {
  "kernelspec": {
   "display_name": "Python 3",
   "language": "python",
   "name": "python3"
  },
  "language_info": {
   "codemirror_mode": {
    "name": "ipython",
    "version": 3
   },
   "file_extension": ".py",
   "mimetype": "text/x-python",
   "name": "python",
   "nbconvert_exporter": "python",
   "pygments_lexer": "ipython3",
   "version": "3.7.3"
  }
 },
 "nbformat": 4,
 "nbformat_minor": 2
}
